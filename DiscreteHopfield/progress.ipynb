{
 "cells": [
  {
   "cell_type": "markdown",
   "metadata": {},
   "source": [
    "## 7th October 2024\n",
    "- Bare bone Structure\n",
    "- Neuron Update function"
   ]
  },
  {
   "cell_type": "markdown",
   "metadata": {},
   "source": [
    "## 18Th October 2024\n",
    "- Hebbian Learning rule **(Information Storage algorithm)**\n",
    "- understood the intuition and working of it"
   ]
  },
  {
   "cell_type": "markdown",
   "metadata": {},
   "source": []
  }
 ],
 "metadata": {
  "language_info": {
   "name": "python"
  }
 },
 "nbformat": 4,
 "nbformat_minor": 2
}
